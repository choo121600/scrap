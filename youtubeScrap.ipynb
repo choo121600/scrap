{
 "cells": [
  {
   "cell_type": "markdown",
   "id": "1f4c0cc8",
   "metadata": {},
   "source": [
    "## YouTube Scraping with Beautiful Soup and Selenium"
   ]
  },
  {
   "cell_type": "code",
   "execution_count": 1,
   "id": "acc87e28",
   "metadata": {
    "ExecuteTime": {
     "end_time": "2022-07-10T00:06:26.840349Z",
     "start_time": "2022-07-10T00:06:26.825390Z"
    }
   },
   "outputs": [],
   "source": [
    "banner = \"\"\"\n",
    "\n",
    "   dM  dMP    .aMMMb    dMP dMP  dMMMMMMP    dMP dMP     dMMMMb     dMMMMMP        .dMMMb    .aMMMb     dMMMMb     .aMMMb     dMMMMb     dMMMMMP     dMMMMb \n",
    "  dMP.dMP    dMP dMP   dMP dMP     dMP      dMP dMP     dMP .MP    dMP            dMP   V   dMP  MP    dMP dMP    dMP dMP    dMP dMP    dMP         dMP dMP \n",
    "  VMMMMP    dMP dMP   dMP dMP     dMP      dMP dMP     dMMMMK\"    dMMMP           VMMMb    dMP        dMMMMK\"    dMMMMMP    dMMMMP\"    dMMMP       dMMMMK\"  \n",
    "n  .dMP    dMP aMP   dMP aMP     dMP      dMP aMP     dMP .MF    dMP            n   dMP   dMP  MP    dMP AMF    dMP dMP    dMP        dMP         dMP AMF   \n",
    "VMMMP\"     VMMMP\"    VMMMP\"     dMP       VMMMP\"     dMMMMP\"    dMMMMMP         VMMMP\"    VMMMP\"    dMP  MP    dMP dMP    dMP        dMMMMMP     dMP  MP    \n",
    "\n",
    "\"\"\""
   ]
  },
  {
   "cell_type": "markdown",
   "id": "b6de1a5b",
   "metadata": {},
   "source": [
    "### 패키지 및 사전 세팅"
   ]
  },
  {
   "cell_type": "code",
   "execution_count": 2,
   "id": "c6f37560",
   "metadata": {
    "ExecuteTime": {
     "end_time": "2022-07-10T00:06:27.359483Z",
     "start_time": "2022-07-10T00:06:26.841346Z"
    }
   },
   "outputs": [],
   "source": [
    "import time\n",
    "import pandas as pd\n",
    "from bs4 import BeautifulSoup\n",
    "\n",
    "from selenium import webdriver\n",
    "from time import sleep\n",
    "\n",
    "import warnings \n",
    "warnings.filterwarnings('ignore')\n",
    "\n",
    "class bcolors: # 4-bit Colours ANSI\n",
    "    OKMAGENTA = '\\033[95m'\n",
    "    OKBLUE = '\\033[94m[SCRAPING]'\n",
    "    OKGREEN = '\\033[92m'\n",
    "    OKYELLOW = '\\033[93m'\n",
    "    OKCYAN = '\\033[96m'\n",
    "    OKRED = '\\033[91m'\n",
    "    ENDC = '\\033[0m'\n",
    "\n",
    "bc = bcolors"
   ]
  },
  {
   "cell_type": "code",
   "execution_count": 3,
   "id": "cf5431bb",
   "metadata": {
    "ExecuteTime": {
     "end_time": "2022-07-10T00:06:27.375441Z",
     "start_time": "2022-07-10T00:06:27.360482Z"
    }
   },
   "outputs": [],
   "source": [
    "df = pd.DataFrame(columns=('title', 'url'))"
   ]
  },
  {
   "cell_type": "markdown",
   "id": "07df8137",
   "metadata": {},
   "source": [
    "### 변수 값 작성 (채널과 필요한 데이터 양 변경 가능)"
   ]
  },
  {
   "cell_type": "code",
   "execution_count": 4,
   "id": "19181e51",
   "metadata": {
    "ExecuteTime": {
     "end_time": "2022-07-10T00:06:27.391402Z",
     "start_time": "2022-07-10T00:06:27.376438Z"
    }
   },
   "outputs": [],
   "source": [
    "channel_name = 'sbs8news' # 채널 명\n",
    "end_point = 1000 # 필요한 데이터 수 <-- 스크랩하고 싶은만큼 바꿔주세요"
   ]
  },
  {
   "cell_type": "markdown",
   "id": "bd9e172f",
   "metadata": {},
   "source": [
    "### 셀레니움으로 유튜브 속성값 가져오기"
   ]
  },
  {
   "cell_type": "code",
   "execution_count": 5,
   "id": "39021fe6",
   "metadata": {
    "ExecuteTime": {
     "end_time": "2022-07-10T00:06:30.809821Z",
     "start_time": "2022-07-10T00:06:27.392396Z"
    }
   },
   "outputs": [],
   "source": [
    "options = webdriver.ChromeOptions()\n",
    "options.add_argument('headless') # 크롬드라이버 창을 열지 않고 백그라운드에서 실행하는 옵션입니다.\n",
    "options.add_experimental_option('excludeSwitches', ['enable-logging']) # 불필요한 로그는 숨기는 옵션입니다.\n",
    "driver = webdriver.Chrome(options=options)\n",
    "\n",
    "channel_url = 'https://www.youtube.com/{}/videos'.format(channel_name)\n",
    "driver.get(channel_url)"
   ]
  },
  {
   "cell_type": "markdown",
   "id": "15dbcec8",
   "metadata": {},
   "source": [
    "### 뷰티풀수프를 이용한 데이터 크롤링"
   ]
  },
  {
   "cell_type": "code",
   "execution_count": 6,
   "id": "4b740f03",
   "metadata": {
    "ExecuteTime": {
     "end_time": "2022-07-10T00:09:08.350707Z",
     "start_time": "2022-07-10T00:06:30.810792Z"
    },
    "scrolled": true
   },
   "outputs": [
    {
     "name": "stdout",
     "output_type": "stream",
     "text": [
      "\u001b[95m\n",
      "\n",
      "   dM  dMP    .aMMMb    dMP dMP  dMMMMMMP    dMP dMP     dMMMMb     dMMMMMP        .dMMMb    .aMMMb     dMMMMb     .aMMMb     dMMMMb     dMMMMMP     dMMMMb \n",
      "  dMP.dMP    dMP dMP   dMP dMP     dMP      dMP dMP     dMP .MP    dMP            dMP   V   dMP  MP    dMP dMP    dMP dMP    dMP dMP    dMP         dMP dMP \n",
      "  VMMMMP    dMP dMP   dMP dMP     dMP      dMP dMP     dMMMMK\"    dMMMP           VMMMb    dMP        dMMMMK\"    dMMMMMP    dMMMMP\"    dMMMP       dMMMMK\"  \n",
      "n  .dMP    dMP aMP   dMP aMP     dMP      dMP aMP     dMP .MF    dMP            n   dMP   dMP  MP    dMP AMF    dMP dMP    dMP        dMP         dMP AMF   \n",
      "VMMMP\"     VMMMP\"    VMMMP\"     dMP       VMMMP\"     dMMMMP\"    dMMMMMP         VMMMP\"    VMMMP\"    dMP  MP    dMP dMP    dMP        dMMMMMP     dMP  MP    \n",
      "\n",
      "\u001b[0m\n",
      "\u001b[94m[SCRAPING] 100% | Scraping the \"SBS8NEWS\" Channel...\u001b[0m\n",
      "\u001b[92m----------Done!----------\u001b[0m\n"
     ]
    }
   ],
   "source": [
    "print(bc.OKMAGENTA + banner + bc.ENDC) # 채원님이 원하셨던 핑크!\n",
    "\n",
    "base_url = 'https://www.youtube.com'\n",
    "prev_scroll = driver.execute_script('return document.documentElement.scrollHeight') # 이전 스크롤 위치 입니다.\n",
    "prev_elements = []\n",
    "\n",
    "cnt = 0\n",
    "while True:\n",
    "    try:\n",
    "        driver.execute_script(\"window.scrollTo(0, document.documentElement.scrollHeight);\") # 스크롤을 제어하여 최대한 내립니다.\n",
    "        time.sleep(2) # 데이터가 로딩되기까지 sleep\n",
    "\n",
    "        url_source = driver.page_source\n",
    "        soup = BeautifulSoup(markup=url_source, features='html.parser')\n",
    "\n",
    "        curr_elements = soup.find_all('a', id='video-title')\n",
    "\n",
    "        for i in range(len(prev_elements), len(curr_elements)):\n",
    "            if cnt == end_point: # 종료지점에서 드라이브를 close를 하고 오류를 발생시킵니다. <-- 종료 포인트를 주고 싶지 않으면 이 if문을 삭제하시면 됩니다.\n",
    "                driver.close()\n",
    "                break\n",
    "            else:\n",
    "                cnt += 1\n",
    "                elements = curr_elements[i]\n",
    "                title = elements.text # 필요없으면 제거해도 됩니다. 다만, 아래 데이터 프레임에 append하는 부분 수정해주세요.\n",
    "                url = base_url + str(elements).split(' href=')[1].split(' ')[0][1:-1]\n",
    "                df = df.append({'title': title, 'url': url}, ignore_index=True) # 제목 제거 시에 수정 필요합니다.\n",
    "                \n",
    "                message = ' {}% | Scraping the \"{}\" Channel...'.format(int(cnt/end_point*100), channel_name.upper())\n",
    "                print('\\r' + bc.OKBLUE + message + bc.ENDC, end=\"\")\n",
    "        \n",
    "        curr_scroll = driver.execute_script('return document.documentElement.scrollHeight') # 현 시점에서 스크롤을 최대로 내린 스코롤 위치 입니다.\n",
    "        if curr_scroll == prev_scroll: # 현재 스크롤 위치가 이전 스크롤 위치와 같으면 드라이브를 close를 하고 오류를 발생시킵니다.\n",
    "            driver.close()\n",
    "            break\n",
    "            \n",
    "        prev_scroll = curr_scroll\n",
    "        prev_elements = curr_elements\n",
    "            \n",
    "    except:\n",
    "        print(\"\\n\" + bc.OKGREEN + '----------Done!----------'+ bc.ENDC)\n",
    "        break\n"
   ]
  },
  {
   "cell_type": "markdown",
   "id": "85cb80b8",
   "metadata": {},
   "source": [
    "### 결과 출력"
   ]
  },
  {
   "cell_type": "code",
   "execution_count": 7,
   "id": "6f08203b",
   "metadata": {
    "ExecuteTime": {
     "end_time": "2022-07-10T00:09:08.366663Z",
     "start_time": "2022-07-10T00:09:08.351704Z"
    }
   },
   "outputs": [
    {
     "data": {
      "text/html": [
       "<div>\n",
       "<style scoped>\n",
       "    .dataframe tbody tr th:only-of-type {\n",
       "        vertical-align: middle;\n",
       "    }\n",
       "\n",
       "    .dataframe tbody tr th {\n",
       "        vertical-align: top;\n",
       "    }\n",
       "\n",
       "    .dataframe thead th {\n",
       "        text-align: right;\n",
       "    }\n",
       "</style>\n",
       "<table border=\"1\" class=\"dataframe\">\n",
       "  <thead>\n",
       "    <tr style=\"text-align: right;\">\n",
       "      <th></th>\n",
       "      <th>title</th>\n",
       "      <th>url</th>\n",
       "    </tr>\n",
       "  </thead>\n",
       "  <tbody>\n",
       "    <tr>\n",
       "      <th>0</th>\n",
       "      <td>[날씨] 서울 낮 최고 34도…곳곳 요란한 소나기 / SBS</td>\n",
       "      <td>https://www.youtube.com/watch?v=LsQtYR6XqGY</td>\n",
       "    </tr>\n",
       "    <tr>\n",
       "      <th>1</th>\n",
       "      <td>'국가부도' 스리랑카 대통령, 반정부 시위에 사임 선언 / SBS</td>\n",
       "      <td>https://www.youtube.com/watch?v=_oZ6TU8QVBI</td>\n",
       "    </tr>\n",
       "    <tr>\n",
       "      <th>2</th>\n",
       "      <td>강남 영화관 화재에 80여 명 대피…인명 피해 없어 / SBS</td>\n",
       "      <td>https://www.youtube.com/watch?v=HSKEhVSNUKk</td>\n",
       "    </tr>\n",
       "    <tr>\n",
       "      <th>3</th>\n",
       "      <td>한 달 반 만에 다시 2만 명대…13일 대응 방안 발표 / SBS</td>\n",
       "      <td>https://www.youtube.com/watch?v=DOC-NZIiblg</td>\n",
       "    </tr>\n",
       "    <tr>\n",
       "      <th>4</th>\n",
       "      <td>\"어머니가 빠진 종교 단체에 원한\"…아베, 12일 가족장 / SBS</td>\n",
       "      <td>https://www.youtube.com/watch?v=GNm0iqgDnAE</td>\n",
       "    </tr>\n",
       "    <tr>\n",
       "      <th>...</th>\n",
       "      <td>...</td>\n",
       "      <td>...</td>\n",
       "    </tr>\n",
       "    <tr>\n",
       "      <th>995</th>\n",
       "      <td>더불어민주당 비상대책위원회 / SBS</td>\n",
       "      <td>https://www.youtube.com/watch?v=qL7xvJRM38o</td>\n",
       "    </tr>\n",
       "    <tr>\n",
       "      <th>996</th>\n",
       "      <td>\"'타닥타닥' 빗소리 들으니 이 짝꿍 생각나요\" / SBS / 친절한 경제</td>\n",
       "      <td>https://www.youtube.com/watch?v=zpjImbLsX5k</td>\n",
       "    </tr>\n",
       "    <tr>\n",
       "      <th>997</th>\n",
       "      <td>윤 대통령, 스페인 방문 2일차- 국왕 만찬 참석 등 외교 일정 / SBS</td>\n",
       "      <td>https://www.youtube.com/watch?v=gnJ1CgxRpKU</td>\n",
       "    </tr>\n",
       "    <tr>\n",
       "      <th>998</th>\n",
       "      <td>\"말하지 않아도 신난다\"…언어의 경계 허문 '파란 남자들' / SBS / 초대석</td>\n",
       "      <td>https://www.youtube.com/watch?v=bzplJrQSzv4</td>\n",
       "    </tr>\n",
       "    <tr>\n",
       "      <th>999</th>\n",
       "      <td>\"내 집에서 담배 피우는데 왜 욕해요?\" 호소문 갑론을박 / SBS / 뉴스딱</td>\n",
       "      <td>https://www.youtube.com/watch?v=PthlEZjXsq4</td>\n",
       "    </tr>\n",
       "  </tbody>\n",
       "</table>\n",
       "<p>1000 rows × 2 columns</p>\n",
       "</div>"
      ],
      "text/plain": [
       "                                            title  \\\n",
       "0               [날씨] 서울 낮 최고 34도…곳곳 요란한 소나기 / SBS   \n",
       "1            '국가부도' 스리랑카 대통령, 반정부 시위에 사임 선언 / SBS   \n",
       "2              강남 영화관 화재에 80여 명 대피…인명 피해 없어 / SBS   \n",
       "3            한 달 반 만에 다시 2만 명대…13일 대응 방안 발표 / SBS   \n",
       "4           \"어머니가 빠진 종교 단체에 원한\"…아베, 12일 가족장 / SBS   \n",
       "..                                            ...   \n",
       "995                          더불어민주당 비상대책위원회 / SBS   \n",
       "996     \"'타닥타닥' 빗소리 들으니 이 짝꿍 생각나요\" / SBS / 친절한 경제   \n",
       "997     윤 대통령, 스페인 방문 2일차- 국왕 만찬 참석 등 외교 일정 / SBS   \n",
       "998  \"말하지 않아도 신난다\"…언어의 경계 허문 '파란 남자들' / SBS / 초대석   \n",
       "999   \"내 집에서 담배 피우는데 왜 욕해요?\" 호소문 갑론을박 / SBS / 뉴스딱   \n",
       "\n",
       "                                             url  \n",
       "0    https://www.youtube.com/watch?v=LsQtYR6XqGY  \n",
       "1    https://www.youtube.com/watch?v=_oZ6TU8QVBI  \n",
       "2    https://www.youtube.com/watch?v=HSKEhVSNUKk  \n",
       "3    https://www.youtube.com/watch?v=DOC-NZIiblg  \n",
       "4    https://www.youtube.com/watch?v=GNm0iqgDnAE  \n",
       "..                                           ...  \n",
       "995  https://www.youtube.com/watch?v=qL7xvJRM38o  \n",
       "996  https://www.youtube.com/watch?v=zpjImbLsX5k  \n",
       "997  https://www.youtube.com/watch?v=gnJ1CgxRpKU  \n",
       "998  https://www.youtube.com/watch?v=bzplJrQSzv4  \n",
       "999  https://www.youtube.com/watch?v=PthlEZjXsq4  \n",
       "\n",
       "[1000 rows x 2 columns]"
      ]
     },
     "execution_count": 7,
     "metadata": {},
     "output_type": "execute_result"
    }
   ],
   "source": [
    "df"
   ]
  },
  {
   "cell_type": "code",
   "execution_count": 8,
   "id": "beb91d33",
   "metadata": {
    "ExecuteTime": {
     "end_time": "2022-07-10T00:09:08.381624Z",
     "start_time": "2022-07-10T00:09:08.367662Z"
    }
   },
   "outputs": [
    {
     "data": {
      "text/plain": [
       "996"
      ]
     },
     "execution_count": 8,
     "metadata": {},
     "output_type": "execute_result"
    }
   ],
   "source": [
    "len(list(df['title'].unique()))"
   ]
  },
  {
   "cell_type": "code",
   "execution_count": 9,
   "id": "f87d280f",
   "metadata": {
    "ExecuteTime": {
     "end_time": "2022-07-10T00:09:08.396376Z",
     "start_time": "2022-07-10T00:09:08.383619Z"
    }
   },
   "outputs": [
    {
     "data": {
      "text/html": [
       "<div>\n",
       "<style scoped>\n",
       "    .dataframe tbody tr th:only-of-type {\n",
       "        vertical-align: middle;\n",
       "    }\n",
       "\n",
       "    .dataframe tbody tr th {\n",
       "        vertical-align: top;\n",
       "    }\n",
       "\n",
       "    .dataframe thead th {\n",
       "        text-align: right;\n",
       "    }\n",
       "</style>\n",
       "<table border=\"1\" class=\"dataframe\">\n",
       "  <thead>\n",
       "    <tr style=\"text-align: right;\">\n",
       "      <th></th>\n",
       "      <th>title</th>\n",
       "      <th>url</th>\n",
       "    </tr>\n",
       "  </thead>\n",
       "  <tbody>\n",
       "    <tr>\n",
       "      <th>175</th>\n",
       "      <td>'화제의 장타자' 윤이나…\"비결은 '지면 반력'\" / SBS</td>\n",
       "      <td>https://www.youtube.com/watch?v=kL6VnGlqpuI</td>\n",
       "    </tr>\n",
       "    <tr>\n",
       "      <th>627</th>\n",
       "      <td>박태환 \"황선우는 저보다 뛰어난 선수…응원할게요\" / SBS</td>\n",
       "      <td>https://www.youtube.com/watch?v=bA2T9nrwLwA</td>\n",
       "    </tr>\n",
       "    <tr>\n",
       "      <th>633</th>\n",
       "      <td>'이자 장사' 비판에 대출금리↓ · 예금금리↑ / SBS</td>\n",
       "      <td>https://www.youtube.com/watch?v=sjtywcnw2NI</td>\n",
       "    </tr>\n",
       "    <tr>\n",
       "      <th>772</th>\n",
       "      <td>올해 상반기 무역적자 103억 달러…역대 최대 규모 / SBS</td>\n",
       "      <td>https://www.youtube.com/watch?v=cH_T5McxQNI</td>\n",
       "    </tr>\n",
       "  </tbody>\n",
       "</table>\n",
       "</div>"
      ],
      "text/plain": [
       "                                  title  \\\n",
       "175   '화제의 장타자' 윤이나…\"비결은 '지면 반력'\" / SBS   \n",
       "627   박태환 \"황선우는 저보다 뛰어난 선수…응원할게요\" / SBS   \n",
       "633     '이자 장사' 비판에 대출금리↓ · 예금금리↑ / SBS   \n",
       "772  올해 상반기 무역적자 103억 달러…역대 최대 규모 / SBS   \n",
       "\n",
       "                                             url  \n",
       "175  https://www.youtube.com/watch?v=kL6VnGlqpuI  \n",
       "627  https://www.youtube.com/watch?v=bA2T9nrwLwA  \n",
       "633  https://www.youtube.com/watch?v=sjtywcnw2NI  \n",
       "772  https://www.youtube.com/watch?v=cH_T5McxQNI  "
      ]
     },
     "execution_count": 9,
     "metadata": {},
     "output_type": "execute_result"
    }
   ],
   "source": [
    "df[df['title'].duplicated() == True] # 제목에서 중복 값이 존재하는데 이는 사이트에서도 중복으로 나타남으로 문제 없습니다."
   ]
  },
  {
   "cell_type": "code",
   "execution_count": 10,
   "id": "65a0d1cd",
   "metadata": {
    "ExecuteTime": {
     "end_time": "2022-07-10T00:09:08.412334Z",
     "start_time": "2022-07-10T00:09:08.397374Z"
    }
   },
   "outputs": [
    {
     "data": {
      "text/plain": [
       "1000"
      ]
     },
     "execution_count": 10,
     "metadata": {},
     "output_type": "execute_result"
    }
   ],
   "source": [
    "len(list(df['url'].unique()))"
   ]
  },
  {
   "cell_type": "code",
   "execution_count": 11,
   "id": "d13d7f59",
   "metadata": {
    "ExecuteTime": {
     "end_time": "2022-07-10T00:09:08.428291Z",
     "start_time": "2022-07-10T00:09:08.413331Z"
    }
   },
   "outputs": [],
   "source": [
    "# df.to_csv('./youtubeScrap.csv',index = False, encoding='utf-8-sig')"
   ]
  }
 ],
 "metadata": {
  "kernelspec": {
   "display_name": "Python 3 (ipykernel)",
   "language": "python",
   "name": "python3"
  },
  "language_info": {
   "codemirror_mode": {
    "name": "ipython",
    "version": 3
   },
   "file_extension": ".py",
   "mimetype": "text/x-python",
   "name": "python",
   "nbconvert_exporter": "python",
   "pygments_lexer": "ipython3",
   "version": "3.9.7"
  },
  "toc": {
   "base_numbering": 1,
   "nav_menu": {},
   "number_sections": true,
   "sideBar": true,
   "skip_h1_title": false,
   "title_cell": "Table of Contents",
   "title_sidebar": "Contents",
   "toc_cell": false,
   "toc_position": {},
   "toc_section_display": true,
   "toc_window_display": false
  },
  "varInspector": {
   "cols": {
    "lenName": 16,
    "lenType": 16,
    "lenVar": 40
   },
   "kernels_config": {
    "python": {
     "delete_cmd_postfix": "",
     "delete_cmd_prefix": "del ",
     "library": "var_list.py",
     "varRefreshCmd": "print(var_dic_list())"
    },
    "r": {
     "delete_cmd_postfix": ") ",
     "delete_cmd_prefix": "rm(",
     "library": "var_list.r",
     "varRefreshCmd": "cat(var_dic_list()) "
    }
   },
   "types_to_exclude": [
    "module",
    "function",
    "builtin_function_or_method",
    "instance",
    "_Feature"
   ],
   "window_display": false
  }
 },
 "nbformat": 4,
 "nbformat_minor": 5
}
